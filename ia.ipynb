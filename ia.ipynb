{
  "nbformat": 4,
  "nbformat_minor": 0,
  "metadata": {
    "colab": {
      "provenance": [],
      "include_colab_link": true
    },
    "kernelspec": {
      "name": "python3",
      "display_name": "Python 3"
    },
    "language_info": {
      "name": "python"
    }
  },
  "cells": [
    {
      "cell_type": "markdown",
      "metadata": {
        "id": "view-in-github",
        "colab_type": "text"
      },
      "source": [
        "<a href=\"https://colab.research.google.com/github/JosueInge/PrograIII_2024/blob/main/ia.ipynb\" target=\"_parent\"><img src=\"https://colab.research.google.com/assets/colab-badge.svg\" alt=\"Open In Colab\"/></a>"
      ]
    },
    {
      "cell_type": "code",
      "execution_count": null,
      "metadata": {
        "id": "C-1Cl5NFLeSc"
      },
      "outputs": [],
      "source": [
        "#importar la libreria de tensorflow para sumar dos numeros.\n",
        "import tensorflow as tf"
      ]
    },
    {
      "cell_type": "code",
      "source": [
        "num1 = int(input(\"Num 1: \"))\n",
        "num2 = int(input(\"Num 2: \"))\n",
        "\n",
        "a = tf.Variable(num1)\n",
        "b = tf.Variable(num2)\n",
        "\n",
        "print(a)\n",
        "\n",
        "respuesta = tf.add(a,b)\n",
        "\n",
        "print(\"La suma es: \", respuesta.numpy())"
      ],
      "metadata": {
        "colab": {
          "base_uri": "https://localhost:8080/"
        },
        "id": "UkSjPEJLMes5",
        "outputId": "fee9337c-1236-4ff1-d0e8-c4519011b67d"
      },
      "execution_count": null,
      "outputs": [
        {
          "output_type": "stream",
          "name": "stdout",
          "text": [
            "Num 1: 5\n",
            "Num 2: 4\n",
            "<tf.Variable 'Variable:0' shape=() dtype=int32, numpy=5>\n",
            "La suma es:  9\n"
          ]
        }
      ]
    },
    {
      "cell_type": "markdown",
      "source": [
        "Leer archivos con la libreria de pandas"
      ],
      "metadata": {
        "id": "41lZwU48PMLE"
      }
    },
    {
      "cell_type": "code",
      "source": [
        "#importar la libreria de pandas.\n",
        "import pandas as pd"
      ],
      "metadata": {
        "id": "sQIqWIrSPRLu"
      },
      "execution_count": null,
      "outputs": []
    },
    {
      "cell_type": "code",
      "source": [
        "#leer el archivo de notas\n",
        "ruta = \"/content/notas.csv\"\n",
        "notas = pd.read_csv(ruta, sep=\";\", encoding=\"utf-8\")\n",
        "\n",
        "print(notas[\"nota\"])"
      ],
      "metadata": {
        "colab": {
          "base_uri": "https://localhost:8080/"
        },
        "collapsed": true,
        "id": "XgDfUuPUPd_N",
        "outputId": "154ef4d8-8439-4c29-fd00-3d30c10c29d4"
      },
      "execution_count": null,
      "outputs": [
        {
          "output_type": "stream",
          "name": "stdout",
          "text": [
            "0     9\n",
            "1     6\n",
            "2     9\n",
            "3    10\n",
            "4     3\n",
            "5     3\n",
            "6     1\n",
            "Name: nota, dtype: int64\n"
          ]
        }
      ]
    },
    {
      "cell_type": "code",
      "source": [
        "#Obtener el listado de alumno aprobados\n",
        "aprobados = notas[notas[\"nota\"]>=6]\n",
        "print(aprobados)"
      ],
      "metadata": {
        "colab": {
          "base_uri": "https://localhost:8080/"
        },
        "collapsed": true,
        "id": "bmRPT49vPgf-",
        "outputId": "9f57335d-a7ba-437b-d5a0-27f2bc3551ca"
      },
      "execution_count": null,
      "outputs": [
        {
          "output_type": "stream",
          "name": "stdout",
          "text": [
            "           nombre  nota\n",
            "0      Juan Perez     9\n",
            "1  Luis Hernandez     6\n",
            "2     Maria Amaya     9\n",
            "3      Jose Perez    10\n"
          ]
        }
      ]
    },
    {
      "cell_type": "code",
      "source": [
        "#Obtener el listado de reprobados.\n",
        "reprobados = notas[notas[\"nota\"]<6]\n",
        "print(reprobados)"
      ],
      "metadata": {
        "colab": {
          "base_uri": "https://localhost:8080/"
        },
        "id": "fXS6D1YqRHRG",
        "outputId": "b52a794e-67c3-4224-8b96-3c22da83884a"
      },
      "execution_count": null,
      "outputs": [
        {
          "output_type": "stream",
          "name": "stdout",
          "text": [
            "              nombre  nota\n",
            "4       Juan Carlos      3\n",
            "5  Pedro Quintanilla     3\n",
            "6       Emilio Perez     1\n"
          ]
        }
      ]
    },
    {
      "cell_type": "code",
      "source": [
        "#Cuantos (numero) aprobaron la materia.\n",
        "print(\"Numero de Aprobados\", len(aprobados))\n",
        "cantidad_aprobados = notas.loc[notas[\"nota\"]>=6].agg({\"count\"})\n",
        "\n",
        "print(\"Cantdad de aprobados\", cantidad_aprobados)"
      ],
      "metadata": {
        "colab": {
          "base_uri": "https://localhost:8080/"
        },
        "id": "U4a4mohRSA7Y",
        "outputId": "a7fcd0a8-7684-4783-f947-88d4681f4290"
      },
      "execution_count": null,
      "outputs": [
        {
          "output_type": "stream",
          "name": "stdout",
          "text": [
            "Numero de Aprobados 4\n",
            "Cantdad de aprobados        nombre  nota\n",
            "count       4     4\n"
          ]
        }
      ]
    },
    {
      "cell_type": "code",
      "source": [
        "#Cuantos (Numero) reprobaron la materia\n",
        "cantidad_reprobados = reprobados.agg({\"count\"})\n",
        "print(\"Cantdad de reprobados: \", cantidad_reprobados)"
      ],
      "metadata": {
        "colab": {
          "base_uri": "https://localhost:8080/"
        },
        "id": "sGHz8InuTRQ4",
        "outputId": "f63e0f2c-9640-49de-84ed-e5ca9a4651f2"
      },
      "execution_count": null,
      "outputs": [
        {
          "output_type": "stream",
          "name": "stdout",
          "text": [
            "Cantdad de reprobados:         nombre  nota\n",
            "count       3     3\n"
          ]
        }
      ]
    },
    {
      "cell_type": "code",
      "source": [
        "#agrupar por notas.\n",
        "grupo = notas.groupby([\"nota\"]).agg({\n",
        "  'nombre': lambda x: ', '.join(map(str, x))\n",
        "})\n",
        "print(grupo)"
      ],
      "metadata": {
        "colab": {
          "base_uri": "https://localhost:8080/"
        },
        "id": "Rg5gn_TOTzzP",
        "outputId": "95b47e2f-c76f-4403-ed62-c3369c974d6a"
      },
      "execution_count": null,
      "outputs": [
        {
          "output_type": "stream",
          "name": "stdout",
          "text": [
            "                               nombre\n",
            "nota                                 \n",
            "1                        Emilio Perez\n",
            "3     Juan Carlos , Pedro Quintanilla\n",
            "6                      Luis Hernandez\n",
            "9             Juan Perez, Maria Amaya\n",
            "10                         Jose Perez\n"
          ]
        }
      ]
    },
    {
      "cell_type": "markdown",
      "source": [
        "Entrenando una IA de conversor de temperatura"
      ],
      "metadata": {
        "id": "AzWC4Vrax2lU"
      }
    },
    {
      "cell_type": "code",
      "source": [
        "#modelo\n",
        "modelo = tf.keras.Sequential()\n",
        "modelo.add(tf.keras.layers.Dense(units=1, input_shape=[1]))"
      ],
      "metadata": {
        "id": "YXxWjmF70Bcd"
      },
      "execution_count": null,
      "outputs": []
    },
    {
      "cell_type": "code",
      "source": [
        "import tensorflow as tf\n",
        "import pandas as pd\n",
        "import numpy as np\n",
        "\n",
        "temp = pd.read_csv(\"/content/temp.csv\", sep=\";\", encoding=\"utf-8\")\n",
        "print(temp, temp[\"f\"])"
      ],
      "metadata": {
        "id": "hTXuy1gy2umq"
      },
      "execution_count": null,
      "outputs": []
    },
    {
      "cell_type": "code",
      "source": [
        "#datos de entrenamiento\n",
        "celsius = temp[\"c\"]\n",
        "fahrenheit = temp[\"f\"]\n",
        "\n",
        "#print fahrenheit"
      ],
      "metadata": {
        "id": "lKVrfc_k3SyU"
      },
      "execution_count": null,
      "outputs": []
    },
    {
      "cell_type": "code",
      "source": [
        "#modelo\n",
        "modle = tf.keras.Sequential()\n",
        "modle.add(tf.keras.layers.Dense(units=1, input_shape=[1]))"
      ],
      "metadata": {
        "id": "5mxGGKm53eUj"
      },
      "execution_count": null,
      "outputs": []
    },
    {
      "cell_type": "code",
      "source": [
        "#compilar nuestro modelo\n",
        "modelo = compile.compile(optimizer='sgd', loss='mean_squared_error')\n",
        "\n",
        "#entrenamiento\n",
        "epocas = modelo.fit(celsius, fahrenheit, epochs=200, verbose=0)"
      ],
      "metadata": {
        "id": "a_hmZb1Cx2Hz"
      },
      "execution_count": null,
      "outputs": []
    },
    {
      "cell_type": "code",
      "source": [
        "#probar nuestra IA\n",
        "g = int(input(\"Celsius: \"))\n",
        "grados = np.array([-60])\n",
        "resp = modelo.predict(grados)\n",
        "print(\"El valor de fahrenheit es: \", round (resp[0][0],2))"
      ],
      "metadata": {
        "id": "fU0Gh9D8zRTZ"
      },
      "execution_count": null,
      "outputs": []
    },
    {
      "cell_type": "markdown",
      "source": [
        "Realizar un conversor de grados Celsius a grados Kelvin"
      ],
      "metadata": {
        "id": "clLC6Wy-5LqP"
      }
    },
    {
      "cell_type": "code",
      "source": [
        "import tensorflow as tf\n",
        "import pandas as pd\n",
        "import numpy as np\n",
        "\n",
        "temp = pd.read_csv(\"/content/temp.csv\", sep=\";\", encoding=\"utf-8\")\n",
        "print(temp, temp[\"k\"])"
      ],
      "metadata": {
        "id": "kB5w__wf5VHm"
      },
      "execution_count": null,
      "outputs": []
    },
    {
      "cell_type": "code",
      "source": [
        "#datos de entrenamiento\n",
        "celsius = temp[\"c\"]\n",
        "kelvin = temp[\"k\"]\n",
        "\n",
        "#print kelvin"
      ],
      "metadata": {
        "id": "S0CV5O1I58SF"
      },
      "execution_count": null,
      "outputs": []
    },
    {
      "cell_type": "code",
      "source": [
        "#compilar nuestro modelo\n",
        "modelo = compile.compile(optimizer='sgd', loss='mean_squared_error')\n",
        "\n",
        "#entrenamiento\n",
        "epocas = modelo.fit(celsius, kelvin, epochs=1000, verbose=0)"
      ],
      "metadata": {
        "id": "lGuxkFue6ySE"
      },
      "execution_count": null,
      "outputs": []
    },
    {
      "cell_type": "code",
      "source": [
        "g = int(input(\"Celsius: \"))\n",
        "grados = np.array([g])\n",
        "resp = modelo.predict(grados)\n",
        "print(\"El valor de Kelvin es: \", round(resp[0][0],3))\n",
        "\n",
        "\n",
        "#Agregar, convertir de fahrenheit a kelvin"
      ],
      "metadata": {
        "id": "qQO4Q3DH5gDT",
        "outputId": "497423cc-4e3d-46b7-c6a8-5d4bb0074bb6",
        "colab": {
          "base_uri": "https://localhost:8080/"
        }
      },
      "execution_count": 26,
      "outputs": [
        {
          "output_type": "stream",
          "name": "stdout",
          "text": [
            "Celsius: -50\n",
            "\u001b[1m1/1\u001b[0m \u001b[32m━━━━━━━━━━━━━━━━━━━━\u001b[0m\u001b[37m\u001b[0m \u001b[1m0s\u001b[0m 19ms/step\n",
            "El valor de Kelvin es:  9.064\n"
          ]
        }
      ]
    }
  ]
}