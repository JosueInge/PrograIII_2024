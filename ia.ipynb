{
  "nbformat": 4,
  "nbformat_minor": 0,
  "metadata": {
    "colab": {
      "provenance": [],
      "authorship_tag": "ABX9TyO5oQ2Jqv2uYPI4CwQJXmQW",
      "include_colab_link": true
    },
    "kernelspec": {
      "name": "python3",
      "display_name": "Python 3"
    },
    "language_info": {
      "name": "python"
    }
  },
  "cells": [
    {
      "cell_type": "markdown",
      "metadata": {
        "id": "view-in-github",
        "colab_type": "text"
      },
      "source": [
        "<a href=\"https://colab.research.google.com/github/JosueInge/PrograIII_2024/blob/bloque-3/ia.ipynb\" target=\"_parent\"><img src=\"https://colab.research.google.com/assets/colab-badge.svg\" alt=\"Open In Colab\"/></a>"
      ]
    },
    {
      "cell_type": "code",
      "execution_count": 16,
      "metadata": {
        "id": "oTGaEQRPtzy4"
      },
      "outputs": [],
      "source": [
        "import tensorflow as tf"
      ]
    },
    {
      "cell_type": "code",
      "source": [
        "num1 = int(input(\"Num 1:\" ))\n",
        "num2 = int(input(\"Num 2:\" ))\n",
        "\n",
        "a = tf.Variable(num1)\n",
        "b = tf.Variable(num2)\n",
        "\n",
        "print(a)\n",
        "\n",
        "respuesta = tf.add(a,b)\n",
        "\n",
        "print(\"La suma es: \", respuesta.numpy())"
      ],
      "metadata": {
        "colab": {
          "base_uri": "https://localhost:8080/"
        },
        "id": "iRFA7Ljpt-ec",
        "outputId": "17e7b694-ce3c-4d8f-fd12-766e2f5f867e"
      },
      "execution_count": 3,
      "outputs": [
        {
          "output_type": "stream",
          "name": "stdout",
          "text": [
            "Num 1:5\n",
            "Num 2:5\n",
            "<tf.Variable 'Variable:0' shape=() dtype=int32, numpy=5>\n",
            "La suma es:  10\n"
          ]
        }
      ]
    },
    {
      "cell_type": "code",
      "source": [
        "import pandas as pd"
      ],
      "metadata": {
        "id": "jnzh2kWXvIAF"
      },
      "execution_count": 15,
      "outputs": []
    },
    {
      "cell_type": "code",
      "source": [
        "ruta = \"/content/notas.csv\"\n",
        "notas = pd.read_csv(ruta, sep=\";\", encoding=\"utf-8\")\n",
        "\n",
        "print(notas[\"nota\"])"
      ],
      "metadata": {
        "colab": {
          "base_uri": "https://localhost:8080/"
        },
        "id": "ZAtSAuyivjRQ",
        "outputId": "e23eba17-d99d-4270-e299-599346b383ed"
      },
      "execution_count": 17,
      "outputs": [
        {
          "output_type": "stream",
          "name": "stdout",
          "text": [
            "0     9\n",
            "1     6\n",
            "2     8\n",
            "3    10\n",
            "4     3\n",
            "5     2\n",
            "6     1\n",
            "Name: nota, dtype: int64\n"
          ]
        }
      ]
    },
    {
      "cell_type": "markdown",
      "source": [
        "Obtener el listado de alumno aprobado"
      ],
      "metadata": {
        "id": "Cwp0tVioxxxr"
      }
    },
    {
      "cell_type": "code",
      "source": [
        "#Obtener el listado de alumno aprobado\n",
        "aprobados = notas[notas[\"nota\"]>=6]\n",
        "print(aprobados)"
      ],
      "metadata": {
        "colab": {
          "base_uri": "https://localhost:8080/"
        },
        "id": "9v6nLGWNwXlp",
        "outputId": "73a5226a-c35c-4fc8-ac65-d3b0e21f0653"
      },
      "execution_count": 23,
      "outputs": [
        {
          "output_type": "stream",
          "name": "stdout",
          "text": [
            "          nombre:  nota\n",
            "0      Juan Perez     9\n",
            "1  Luis Hernandez     6\n",
            "2     Maria Amaya     8\n",
            "3      Jose Perez    10\n"
          ]
        }
      ]
    },
    {
      "cell_type": "markdown",
      "source": [
        "Obtener el listado de reprobados"
      ],
      "metadata": {
        "id": "Ul7TE5QJxtng"
      }
    },
    {
      "cell_type": "code",
      "source": [
        "#Obtener el listado de reprobados\n",
        "reprobados = notas[notas[\"nota\"]<6]\n",
        "print(reprobados)"
      ],
      "metadata": {
        "colab": {
          "base_uri": "https://localhost:8080/"
        },
        "id": "U90oCdw-xAqz",
        "outputId": "81ad7a8d-936a-49a5-b55d-1a5949054207"
      },
      "execution_count": 25,
      "outputs": [
        {
          "output_type": "stream",
          "name": "stdout",
          "text": [
            "             nombre:  nota\n",
            "4        Juan Carlos     3\n",
            "5  Pedro Quintanilla     2\n",
            "6       Emilio Perez     1\n"
          ]
        }
      ]
    },
    {
      "cell_type": "markdown",
      "source": [
        "Cuantos (numeros) aprobaron la materia:"
      ],
      "metadata": {
        "id": "AUSP5qvFx6-w"
      }
    },
    {
      "cell_type": "code",
      "source": [
        "print(\"Numero de Aprobados\", len(aprobados))\n",
        "print(\"Numero de Aprobados\", len(aprobados))\n",
        "cantidad_aprobados = notas.loc[notas[\"nota\"]>=6, \"nota\"].agg({\"count\"})\n",
        "\n",
        "print(\"Cantidad de aprobados\", cantidad_aprobados)"
      ],
      "metadata": {
        "colab": {
          "base_uri": "https://localhost:8080/"
        },
        "id": "fLz6_TiPx-dC",
        "outputId": "648a39bb-7e2e-4f01-bf76-91f7fcf22f09"
      },
      "execution_count": 20,
      "outputs": [
        {
          "output_type": "stream",
          "name": "stdout",
          "text": [
            "Numero de Aprobados 4\n",
            "Numero de Aprobados 4\n",
            "Cantidad de aprobados count    4\n",
            "Name: nota, dtype: int64\n"
          ]
        }
      ]
    },
    {
      "cell_type": "markdown",
      "source": [
        "Cuantos (numero) reprobaron la materia"
      ],
      "metadata": {
        "id": "5H63MrP-y346"
      }
    },
    {
      "cell_type": "code",
      "source": [
        "cantidad_aprobados = reprobados.agg({\"count\"})\n",
        "print(\"Cantidad de reprobados: \", cantidad_reprobados)"
      ],
      "metadata": {
        "id": "uXUxtrZry9rX"
      },
      "execution_count": null,
      "outputs": []
    },
    {
      "cell_type": "markdown",
      "source": [
        "Agrupar por notas"
      ],
      "metadata": {
        "id": "ADfgPB0gzhBJ"
      }
    },
    {
      "cell_type": "code",
      "source": [
        "grupo = notas.groupby([\"nota\"].agg({\n",
        "    \"nombre\": lambda x: ', '.join(map(str))\n",
        "}))\n",
        "print(grupo)"
      ],
      "metadata": {
        "id": "saM3eLDuzi5v"
      },
      "execution_count": null,
      "outputs": []
    },
    {
      "cell_type": "markdown",
      "source": [
        "Leer archivo"
      ],
      "metadata": {
        "id": "N8c8mP5L3wBn"
      }
    }
  ]
}